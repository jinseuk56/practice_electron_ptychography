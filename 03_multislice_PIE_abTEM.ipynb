{
 "cells": [
  {
   "cell_type": "code",
   "execution_count": null,
   "id": "eafe8d28-0c82-42a7-9db6-897abfe9886d",
   "metadata": {},
   "outputs": [],
   "source": [
    "from abtem import GridScan, PixelatedDetector, Potential, Probe, show_atoms, SMatrix, AnnularDetector, FrozenPhonons\n",
    "from abtem.detect import PixelatedDetector\n",
    "from abtem.reconstruct import MixedStatePtychographicOperator, RegularizedPtychographicOperator, MultislicePtychographicOperator\n",
    "from abtem.measure import Measurement, Calibration, bandlimit, center_of_mass\n",
    "from abtem.utils import energy2wavelength\n",
    "from abtem.transfer import CTF, scherzer_defocus\n",
    "from abtem.structures import orthogonalize_cell\n",
    "from abtem.noise import poisson_noise\n",
    "from ase.build import mx2, surface\n",
    "from ase.io import read\n",
    "import numpy as np\n",
    "import matplotlib.pyplot as plt\n",
    "plt.rcParams['font.family'] = 'Times New Roman'\n",
    "import tifffile"
   ]
  },
  {
   "cell_type": "code",
   "execution_count": null,
   "id": "39f2d866-17a2-401c-b32c-76ba17f604ef",
   "metadata": {},
   "outputs": [],
   "source": [
    "STO_unit_cell   = read('data/SrTiO3.cif')\n",
    "STO_atoms       = surface(STO_unit_cell, (1,1,0), 4, periodic=True)*(2,3,1)\n",
    "STO_atoms_thick      = STO_atoms *(1,1,3)\n",
    "\n",
    "from abtem import show_atoms\n",
    "fig, (ax1, ax2, ax3) = plt.subplots(1, 3, figsize = (9,3))\n",
    "\n",
    "show_atoms(STO_atoms_thick, ax = ax1, title = 'Beam view')\n",
    "show_atoms(STO_atoms_thick, ax = ax2, plane = 'yz', title = 'Side view')\n",
    "show_atoms(STO_atoms_thick, ax = ax3, plane = 'xz', title = 'Side view')\n",
    "\n",
    "fig.tight_layout()\n",
    "plt.show()"
   ]
  },
  {
   "cell_type": "code",
   "execution_count": null,
   "id": "ecdeb36d-dea6-4931-9dad-ee56ba43220f",
   "metadata": {},
   "outputs": [],
   "source": [
    "energy = 200E3\n",
    "aperture_semiangle = 30 # mrad\n",
    "C3 = -7E4\n",
    "sch_defocus = scherzer_defocus(C3, energy)\n",
    "print(sch_defocus)"
   ]
  },
  {
   "cell_type": "code",
   "execution_count": null,
   "id": "4aa57374-302f-4e02-89e9-76e05fb5a452",
   "metadata": {},
   "outputs": [],
   "source": [
    "frozen_phonons_thick = FrozenPhonons(STO_atoms_thick, 64, {'Sr' : .05, 'Ti' : .05, 'O' : .05}, seed=1)\n",
    "potential_thick      = Potential(frozen_phonons_thick,\n",
    "                                 sampling=0.02,\n",
    "                                 projection='infinite',\n",
    "                                 parametrization='kirkland').build()\n",
    "\n",
    "ctf             = CTF(parameters={'C10': sch_defocus*0.9, 'C30':C3}, semiangle_cutoff=aperture_semiangle)\n",
    "probe           = Probe(semiangle_cutoff=aperture_semiangle,\n",
    "                        energy=energy,\n",
    "                        ctf=ctf)\n",
    "\n",
    "probe.match_grid(potential_thick)\n",
    "\n",
    "fig, axes = plt.subplots(1, 2, figsize=(10, 5))\n",
    "probe.show(ax=axes[0])\n",
    "probe.show(ax=axes[1], power=0.5)\n",
    "plt.show()"
   ]
  },
  {
   "cell_type": "code",
   "execution_count": null,
   "id": "b1c76c03-8ad9-4148-8f64-18d8c7f00528",
   "metadata": {},
   "outputs": [],
   "source": [
    "fig, ax1 = plt.subplots(1, 1, figsize=(5, 5))\n",
    "potential_thick.project().show(ax=ax1, cmap=\"inferno\")\n",
    "plt.show()"
   ]
  },
  {
   "cell_type": "code",
   "execution_count": null,
   "id": "d9160b48-2c51-4257-a24e-d2113bb28713",
   "metadata": {},
   "outputs": [],
   "source": [
    "pixelated_detector  = PixelatedDetector(max_angle=aperture_semiangle*3.0)\n",
    "gridscan            = GridScan((0, 0), potential_thick.extent, sampling = 0.5)\n",
    "measurement   = probe.scan(gridscan, pixelated_detector, potential_thick)\n",
    "\n",
    "print(measurement.shape)\n",
    "for i in range(measurement.dimensions):\n",
    "    print(measurement.calibrations[i].name, measurement.calibrations[i].units, measurement.calibrations[i].sampling)"
   ]
  },
  {
   "cell_type": "code",
   "execution_count": null,
   "id": "05836fbb-3eea-4e81-af49-9283e5a64151",
   "metadata": {},
   "outputs": [],
   "source": [
    "bright_detector = AnnularDetector(inner=10, outer=30)\n",
    "bright_measurement = bright_detector.integrate(measurement)\n",
    "\n",
    "maadf_detector = AnnularDetector(inner=50, outer=90)\n",
    "maadf_measurement = maadf_detector.integrate(measurement)\n",
    "\n",
    "pacbed = measurement.mean(axis=(0, 1))\n",
    "\n",
    "fig, axes = plt.subplots(1, 4, figsize=(20, 5))\n",
    "measurement.show(ax=axes[0], cmap=\"inferno\", power=0.5)\n",
    "pacbed.show(ax=axes[1], cmap=\"inferno\", power=0.1)\n",
    "bright_measurement.show(ax=axes[2])\n",
    "maadf_measurement.show(ax=axes[3])\n",
    "fig.tight_layout()\n",
    "plt.show()"
   ]
  },
  {
   "cell_type": "code",
   "execution_count": null,
   "id": "54bcba3b-1cfc-4652-b422-f35bba8b67bd",
   "metadata": {},
   "outputs": [],
   "source": [
    "com_x, com_y = center_of_mass(measurement)\n",
    "\n",
    "fig, (ax1, ax2) = plt.subplots(1, 2, figsize=(10, 5))\n",
    "\n",
    "com_x.interpolate(.1).show(ax=ax1)\n",
    "com_y.interpolate(.1).show(ax=ax2)\n",
    "fig.tight_layout()\n",
    "plt.show()"
   ]
  },
  {
   "cell_type": "code",
   "execution_count": null,
   "id": "ec7202b2-6550-44d2-a48a-4943cb53dc5b",
   "metadata": {},
   "outputs": [],
   "source": [
    "icom = center_of_mass(measurement, return_icom=True)\n",
    "\n",
    "icom.show()\n",
    "plt.show()"
   ]
  },
  {
   "cell_type": "code",
   "execution_count": null,
   "id": "b16097e9-d42d-49cf-afe9-d43a3a23f0fe",
   "metadata": {},
   "outputs": [],
   "source": [
    "band_limited_measurment = bandlimit(measurement, aperture_semiangle*2.0)\n",
    "band_limited_measurment.show(cmap=\"inferno\", power=0.5)\n",
    "plt.show()"
   ]
  },
  {
   "cell_type": "code",
   "execution_count": null,
   "id": "14c3b520-7d58-4914-9be1-02c823d65544",
   "metadata": {},
   "outputs": [],
   "source": [
    "n_iter = 10\n",
    "experimental_ptycho_operator = RegularizedPtychographicOperator(band_limited_measurment,\n",
    "                                                               semiangle_cutoff=aperture_semiangle,\n",
    "                                                               energy=energy,\n",
    "                                                               parameters={'object_px_padding':(10, 10)}).preprocess()\n",
    "\n",
    "exp_objects, exp_probes, exp_positions, exp_sse  = experimental_ptycho_operator.reconstruct(\n",
    "    max_iterations = n_iter,\n",
    "    random_seed=1,\n",
    "    return_iterations=True,\n",
    "    parameters={'alpha':1.0,\n",
    "                'beta':1.0})\n",
    "\n",
    "print(exp_objects[-1].shape)\n",
    "for i in range(exp_objects[-1].dimensions):\n",
    "    print(exp_objects[-1].calibrations[i].name, exp_objects[-1].calibrations[i].units,\n",
    "          exp_objects[-1].calibrations[i].sampling)"
   ]
  },
  {
   "cell_type": "code",
   "execution_count": null,
   "id": "fc067b83-e8dd-43ec-aad7-e92365a7670d",
   "metadata": {},
   "outputs": [],
   "source": [
    "plot_every = int(n_iter/5)\n",
    "\n",
    "fig, axes = plt.subplots(2, int(np.ceil(len(exp_objects) / plot_every))+1, figsize=(20, 8))\n",
    "\n",
    "for i, j in enumerate(range(0,len(exp_objects), plot_every)):\n",
    "    axes[0,i].imshow(np.angle(exp_objects[j].array).T, origin='lower', cmap='gray')\n",
    "    axes[0,i].set_title('iteration: %d, SSE: %.2e'%(j+1, exp_sse[j]))\n",
    "    axes[1,i].imshow(np.abs(exp_probes[j].array).T, origin='lower', cmap='gray')\n",
    "    axes[0,i].axis(\"off\")\n",
    "    axes[1,i].axis(\"off\")\n",
    "\n",
    "axes[0,-1].imshow(np.angle(exp_objects[-1].array).T, origin='lower', cmap='gray')\n",
    "axes[0,-1].set_title('iteration: %d, SSE: %.2e'%(n_iter, exp_sse[-1]))\n",
    "axes[1,-1].imshow(np.abs(exp_probes[-1].array).T, origin='lower', cmap='gray')\n",
    "axes[0,-1].axis(\"off\")\n",
    "axes[1,-1].axis(\"off\")\n",
    "\n",
    "fig.tight_layout()\n",
    "plt.show()"
   ]
  },
  {
   "cell_type": "code",
   "execution_count": null,
   "id": "f37c71fe-948f-46d4-a489-287a68370c78",
   "metadata": {},
   "outputs": [],
   "source": [
    "fig, axd = plt.subplots(1, 2, figsize=(20, 10))\n",
    "exp_objects[-1].angle().show(ax=axd[0], title=f\"SSE = {float(exp_sse[-1]):.3e}\", cmap='inferno')\n",
    "exp_probes[-1].intensity().show(ax=axd[1], cmap=\"gray\", power=0.5)\n",
    "fig.tight_layout()\n",
    "plt.show()"
   ]
  },
  {
   "cell_type": "markdown",
   "id": "f498df41-f7ee-466e-9d72-bb7fc47bf21a",
   "metadata": {},
   "source": [
    "# Multislice ptychography\n",
    "![alt text](image/multislice_ptychography.jpg \"practice\")"
   ]
  },
  {
   "cell_type": "code",
   "execution_count": null,
   "id": "25d06071-05f8-464c-9093-0fe4b1347b28",
   "metadata": {},
   "outputs": [],
   "source": [
    "n_slice = 3\n",
    "slice_thicknesses = STO_atoms_thick.cell.lengths()[-1]/n_slice\n",
    "print(slice_thicknesses)"
   ]
  },
  {
   "cell_type": "code",
   "execution_count": null,
   "id": "e46d53e2-a9f9-4adc-9854-ac0c00eb0a94",
   "metadata": {},
   "outputs": [],
   "source": [
    "multislice_reconstruction_ptycho_operator = MultislicePtychographicOperator(band_limited_measurment,\n",
    "                                                                            semiangle_cutoff=aperture_semiangle,\n",
    "                                                                            energy=energy,\n",
    "                                                                            num_slices = n_slice,\n",
    "                                                                            slice_thicknesses = slice_thicknesses,\n",
    "                                                                            parameters={'object_px_padding':(0,0)}).preprocess()\n",
    "\n",
    "mspie_objects, mspie_probes, mspie_positions, mspie_sse = multislice_reconstruction_ptycho_operator.reconstruct(\n",
    "    max_iterations = 5,\n",
    "    verbose=True,\n",
    "    random_seed=1,\n",
    "    return_iterations=True)"
   ]
  },
  {
   "cell_type": "code",
   "execution_count": null,
   "id": "7411a036-66dd-4a0f-903f-af8bfd1c6fbf",
   "metadata": {},
   "outputs": [],
   "source": [
    "plot_every = int(n_iter/5)\n",
    "\n",
    "fig, axes = plt.subplots(2, int(np.ceil(len(mspie_objects) / plot_every))+1, figsize=(20, 8))\n",
    "\n",
    "for i, j in enumerate(range(0,len(mspie_objects), plot_every)):\n",
    "    axes[0,i].imshow(np.sum(np.angle(mspie_objects[j].array), axis=0).T, origin='lower', cmap='gray')\n",
    "    axes[0,i].set_title('iteration: %d, SSE: %.2e'%(j+1, mspie_sse[j]))\n",
    "    axes[1,i].imshow(np.sum(np.abs(mspie_probes[j].array), axis=0).T**2, origin='lower', cmap='gray')\n",
    "    axes[0,i].axis(\"off\")\n",
    "    axes[1,i].axis(\"off\")\n",
    "\n",
    "axes[0,-1].imshow(np.angle(mspie_objects[-1].array).sum(axis=0).T, origin='lower', cmap='gray')\n",
    "axes[0,-1].set_title('iteration: %d, SSE: %.2e'%(n_iter, mspie_sse[-1]))\n",
    "axes[1,-1].imshow(np.sum(np.abs(mspie_probes[-1].array), axis=0).T**2, origin='lower', cmap='gray')\n",
    "axes[0,-1].axis(\"off\")\n",
    "axes[1,-1].axis(\"off\")\n",
    "\n",
    "fig.tight_layout()\n",
    "plt.show()"
   ]
  },
  {
   "cell_type": "code",
   "execution_count": null,
   "id": "02caa732-57d9-44a9-96b9-2289c0ba9aed",
   "metadata": {},
   "outputs": [],
   "source": [
    "fig, axd = plt.subplots(1, 2, figsize=(10, 5))\n",
    "mspie_objects[-1].angle().sum(0).show(ax=axd[0], title=f\"SSE = {float(mspie_sse[-1]):.3e}\", cmap='inferno')\n",
    "mspie_probes[-1][0].intensity().show(ax=axd[1], cmap=\"gray\", power=0.5)\n",
    "fig.tight_layout()\n",
    "plt.show()"
   ]
  },
  {
   "cell_type": "code",
   "execution_count": null,
   "id": "03260e46-30ca-4a82-9cdb-b33bf26df54b",
   "metadata": {},
   "outputs": [],
   "source": [
    "fig, ax = plt.subplots(1, n_slice, figsize=(5*n_slice, 5))\n",
    "for i in range(n_slice):\n",
    "    ax[i].imshow(np.angle(mspie_objects[-1].array[i]).T, cmap=\"inferno\")\n",
    "    ax[i].axis(\"off\")\n",
    "    \n",
    "fig.tight_layout()\n",
    "plt.show()"
   ]
  }
 ],
 "metadata": {
  "kernelspec": {
   "display_name": "Python 3 (ipykernel)",
   "language": "python",
   "name": "python3"
  },
  "language_info": {
   "codemirror_mode": {
    "name": "ipython",
    "version": 3
   },
   "file_extension": ".py",
   "mimetype": "text/x-python",
   "name": "python",
   "nbconvert_exporter": "python",
   "pygments_lexer": "ipython3",
   "version": "3.9.13"
  }
 },
 "nbformat": 4,
 "nbformat_minor": 5
}
