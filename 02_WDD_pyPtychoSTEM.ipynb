{
 "cells": [
  {
   "cell_type": "code",
   "execution_count": null,
   "id": "55db9399-b1cc-4cdf-bc9a-90ed6e0a0532",
   "metadata": {},
   "outputs": [],
   "source": [
    "import matplotlib.pyplot as plt\n",
    "plt.rcParams['font.family'] = 'Times New Roman'\n",
    "\n",
    "import multiprocessing\n",
    "import typing\n",
    "import numpy as np\n",
    "import tifffile\n",
    "\n",
    "from STEM4D_modified import *\n",
    "import pixstem.api as ps"
   ]
  },
  {
   "cell_type": "code",
   "execution_count": null,
   "id": "78f67fc3-06c5-44e8-88ed-c27ef703cab8",
   "metadata": {},
   "outputs": [],
   "source": [
    "parfile ='parameters_wdd.txt'\n",
    "params = np.genfromtxt(parfile,delimiter='\\t', dtype=str)"
   ]
  },
  {
   "cell_type": "code",
   "execution_count": null,
   "id": "4b211831-02f3-4ebc-bb06-593a5cdcdb74",
   "metadata": {},
   "outputs": [],
   "source": [
    "data_4D = Data4D(parfile)\n",
    "data_4D.center_ronchigrams()\n",
    "data_4D.estimate_aperture_size()"
   ]
  },
  {
   "cell_type": "code",
   "execution_count": null,
   "id": "2f8503cd-d443-4df7-9714-b294e6417482",
   "metadata": {},
   "outputs": [],
   "source": [
    "%matplotlib widget"
   ]
  },
  {
   "cell_type": "code",
   "execution_count": null,
   "id": "13b6c841-e0ad-4025-9667-26fe04dcf1f4",
   "metadata": {},
   "outputs": [],
   "source": [
    "data_4D.plot_4D()"
   ]
  },
  {
   "cell_type": "code",
   "execution_count": null,
   "id": "dca03197-cfb1-49d6-a8fa-5ee64edfa381",
   "metadata": {},
   "outputs": [],
   "source": [
    "data_4D.plot_aperture()"
   ]
  },
  {
   "cell_type": "code",
   "execution_count": null,
   "id": "7a29d486-84bc-4484-928c-071f05cc7f9a",
   "metadata": {},
   "outputs": [],
   "source": [
    "# leave only BF disks\n",
    "data_4D.truncate_ronchigram(expansion_ratio=True) # crops ronchigram to the BF disk"
   ]
  },
  {
   "cell_type": "markdown",
   "id": "27d6cb41-d1a7-40c1-ac03-2245462ae43d",
   "metadata": {},
   "source": [
    "# Transformation of 4D-STEM into G-set\n",
    "![alt text](image/G_set.jpg \"practice\")"
   ]
  },
  {
   "cell_type": "code",
   "execution_count": null,
   "id": "c6ac95eb-2162-4b0d-89cd-871fed5efea3",
   "metadata": {},
   "outputs": [],
   "source": [
    "# I(u, R) -> G(u, U) Fourier transform\n",
    "data_4D.apply_FT()"
   ]
  },
  {
   "cell_type": "code",
   "execution_count": null,
   "id": "e5a8cb91-3784-486c-9412-9469610470b3",
   "metadata": {},
   "outputs": [],
   "source": [
    "data_4D.plot_4D_reciprocal(signal='amplitude')"
   ]
  },
  {
   "cell_type": "code",
   "execution_count": null,
   "id": "30c433aa-1e62-4237-a5c2-03683d557ac2",
   "metadata": {},
   "outputs": [],
   "source": [
    "data_4D.plot_4D_reciprocal(signal='phase')"
   ]
  },
  {
   "cell_type": "markdown",
   "id": "dc82c4ee-abf8-490e-96bc-6058cd673725",
   "metadata": {},
   "source": [
    "# Trotters\n",
    "![alt text](image/trotters.jpg \"practice\")"
   ]
  },
  {
   "cell_type": "code",
   "execution_count": null,
   "id": "89fee6bf-f90d-4072-9617-5aae4abf3dad",
   "metadata": {},
   "outputs": [],
   "source": [
    "rotation = 0\n",
    "data_4D.plot_trotters(rotation, plot_constrains=True, skip=1)# value that fits"
   ]
  },
  {
   "cell_type": "markdown",
   "id": "a4a91a6d-b6db-45b1-ac8e-7f21a7680452",
   "metadata": {},
   "source": [
    "# Wigner distribution deconvolution (WDD)\n",
    "![alt text](image/wdd.jpg \"practice\")"
   ]
  },
  {
   "cell_type": "code",
   "execution_count": null,
   "id": "d4ecd4f4-2b0d-44e4-8845-274ca74077a4",
   "metadata": {},
   "outputs": [],
   "source": [
    "wdd = WDD(data_4D)\n",
    "wdd.run()"
   ]
  },
  {
   "cell_type": "code",
   "execution_count": null,
   "id": "8688e06b-29ba-4e5e-a666-ce81283b9664",
   "metadata": {},
   "outputs": [],
   "source": [
    "wdd.plot_result()"
   ]
  },
  {
   "cell_type": "markdown",
   "id": "4f0d1544-6ca8-49cf-a083-6581566eb25a",
   "metadata": {},
   "source": [
    "# Aberration correction\n",
    "![alt text](image/aberration_correction.jpg \"practice\")"
   ]
  },
  {
   "cell_type": "code",
   "execution_count": null,
   "id": "17bce815-5c5d-4961-807a-51dd02e664ca",
   "metadata": {},
   "outputs": [],
   "source": [
    "svd = SVD_AC(data_4D, trotters_nb=5)\n",
    "svd.build_omnimatrix()\n",
    "svd.run_SVD()"
   ]
  },
  {
   "cell_type": "code",
   "execution_count": null,
   "id": "abf6a89f-c1c9-467c-868c-88e7fd6a2190",
   "metadata": {},
   "outputs": [],
   "source": [
    "svd.print_aberration_coefficients()"
   ]
  },
  {
   "cell_type": "code",
   "execution_count": null,
   "id": "0cc933ec-a363-447b-9fa8-5e46ca78f374",
   "metadata": {},
   "outputs": [],
   "source": [
    "svd.calc_aberrationfunction()\n",
    "svd.calc_aperturefunction()\n",
    "svd.calc_probefunction()\n",
    "svd.plot_corrected_trotters(data_4D.selected_frames, -svd.aberration_coeffs)"
   ]
  },
  {
   "cell_type": "code",
   "execution_count": null,
   "id": "2f55320d-f986-415c-9dde-8efabf04c811",
   "metadata": {},
   "outputs": [],
   "source": [
    "fig, ax = plt.subplots(1, 2, figsize=(10, 5))\n",
    "\n",
    "ax[0].imshow(np.abs(svd.probe))\n",
    "ax[1].imshow(np.angle(svd.func_transfer),\n",
    "             extent=(svd.theta_x.min(),svd.theta_x.max(),svd.theta_y.min(),svd.theta_y.max()),\n",
    "             cmap='jet')\n",
    "\n",
    "ax[0].axis(\"off\")\n",
    "ax[1].axis(\"off\")\n",
    "\n",
    "fig.tight_layout()\n",
    "plt.show()"
   ]
  },
  {
   "cell_type": "code",
   "execution_count": null,
   "id": "26fed79b-4e98-4909-b27c-021c3580e7ef",
   "metadata": {},
   "outputs": [],
   "source": [
    "wdd_ac = WDD(data_4D)\n",
    "wdd_ac.run(aberrations = -svd.aberration_coeffs)"
   ]
  },
  {
   "cell_type": "code",
   "execution_count": null,
   "id": "018076dc-2280-45af-83f0-179a4cf66ec1",
   "metadata": {},
   "outputs": [],
   "source": [
    "fig, ax = plt.subplots(2, 2, figsize=(10, 10))\n",
    "ax[0,0].imshow(wdd_ac.phase, cmap='inferno')\n",
    "ax[1,0].imshow(wdd.phase, cmap='inferno')\n",
    "ax[0,1].imshow(wdd_ac.amplitude, cmap='inferno')\n",
    "ax[1,1].imshow(wdd.amplitude, cmap='inferno')\n",
    "\n",
    "for i in range(4):\n",
    "    ax[int(i/2),i%2].set_yticks([])\n",
    "    ax[int(i/2),i%2].set_xticks([])\n",
    "ax[0,0].set_ylabel('AC corrected')\n",
    "ax[1,0].set_ylabel('uncorrected SSB')\n",
    "ax[0,0].set_title('phase')\n",
    "ax[0,1].set_title('amplitude')\n",
    "\n",
    "fig.tight_layout()\n",
    "plt.show()"
   ]
  }
 ],
 "metadata": {
  "kernelspec": {
   "display_name": "Python 3 (ipykernel)",
   "language": "python",
   "name": "python3"
  },
  "language_info": {
   "codemirror_mode": {
    "name": "ipython",
    "version": 3
   },
   "file_extension": ".py",
   "mimetype": "text/x-python",
   "name": "python",
   "nbconvert_exporter": "python",
   "pygments_lexer": "ipython3",
   "version": "3.9.13"
  }
 },
 "nbformat": 4,
 "nbformat_minor": 5
}
