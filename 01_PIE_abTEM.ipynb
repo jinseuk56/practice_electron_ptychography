{
 "cells": [
  {
   "cell_type": "code",
   "execution_count": null,
   "id": "eafe8d28-0c82-42a7-9db6-897abfe9886d",
   "metadata": {},
   "outputs": [],
   "source": [
    "from abtem import GridScan, PixelatedDetector, Potential, Probe, show_atoms, SMatrix, AnnularDetector, FrozenPhonons\n",
    "from abtem.detect import PixelatedDetector\n",
    "from abtem.reconstruct import MixedStatePtychographicOperator, RegularizedPtychographicOperator\n",
    "from abtem.measure import Measurement, Calibration, bandlimit, center_of_mass\n",
    "from abtem.utils import energy2wavelength\n",
    "from abtem.transfer import CTF, scherzer_defocus\n",
    "from abtem.structures import orthogonalize_cell\n",
    "from abtem.noise import poisson_noise\n",
    "from ase.build import mx2\n",
    "from ase.io import read\n",
    "import numpy as np\n",
    "import matplotlib.pyplot as plt\n",
    "plt.rcParams['font.family'] = 'Times New Roman'\n",
    "import tifffile"
   ]
  },
  {
   "cell_type": "markdown",
   "id": "1d3e0bc5-fd2b-4fc9-a99b-2929c86954b2",
   "metadata": {},
   "source": [
    "# Atomic structure"
   ]
  },
  {
   "cell_type": "code",
   "execution_count": null,
   "id": "39f2d866-17a2-401c-b32c-76ba17f604ef",
   "metadata": {},
   "outputs": [],
   "source": [
    "atoms = mx2(formula='MoS2', kind='2H', a=3.18, thickness=3.19, size=(1, 1, 1), vacuum=None)\n",
    "atoms = orthogonalize_cell(atoms)\n",
    "atoms.center(vacuum=2, axis=2)\n",
    "\n",
    "atoms *= (5,3,1)\n",
    "#del atoms[16]\n",
    "\n",
    "\n",
    "fig, (ax1, ax2) = plt.subplots(1, 2, figsize=(12,4))\n",
    "\n",
    "show_atoms(atoms, ax=ax1, title='Top view', numbering=False)\n",
    "show_atoms(atoms, ax=ax2, plane='xz', title='Side view')\n",
    "plt.show()"
   ]
  },
  {
   "cell_type": "markdown",
   "id": "0959f433-a199-46fa-9518-42590200ab27",
   "metadata": {},
   "source": [
    "# Generation of the projected atomic potential\n",
    "![alt text](image/atomic_potential.jpg \"practice\")"
   ]
  },
  {
   "cell_type": "code",
   "execution_count": null,
   "id": "4aa57374-302f-4e02-89e9-76e05fb5a452",
   "metadata": {},
   "outputs": [],
   "source": [
    "potential = Potential(atoms, \n",
    "                      sampling=.05,\n",
    "                      projection='infinite', \n",
    "                      slice_thickness=1, \n",
    "                      parametrization='kirkland').build()\n",
    "\n",
    "fig, ax1 = plt.subplots(1, 1, figsize=(5, 5))\n",
    "potential.project().show(ax=ax1, cmap=\"inferno\")\n",
    "plt.show()"
   ]
  },
  {
   "cell_type": "markdown",
   "id": "a6a78a0d-7b0e-4bb5-977b-653ea499c188",
   "metadata": {},
   "source": [
    "![alt text](image/atomic_potential_2.jpg \"practice\")"
   ]
  },
  {
   "cell_type": "markdown",
   "id": "c47d82ee-c75d-4adc-a247-7e6618f31d93",
   "metadata": {},
   "source": [
    "# Reflection of thermal diffuse scattering (frozen phonon)"
   ]
  },
  {
   "cell_type": "code",
   "execution_count": null,
   "id": "0f1f9d81-667b-49e4-9c67-3d48ff2b57ad",
   "metadata": {},
   "outputs": [],
   "source": [
    "frozen_phonons = FrozenPhonons(atoms, 16, {\"Mo\":0.05, \"S\":0.05}, seed=56)\n",
    "atoms_conf = next(iter(frozen_phonons))\n",
    "\n",
    "fig, (ax1, ax2) = plt.subplots(1, 2, figsize=(10, 5))\n",
    "\n",
    "show_atoms(atoms_conf, ax=ax1, title='Top view')\n",
    "show_atoms(atoms_conf, ax=ax2, plane='xz', title='Side view - xz')\n",
    "plt.show()"
   ]
  },
  {
   "cell_type": "code",
   "execution_count": null,
   "id": "b1c76c03-8ad9-4148-8f64-18d8c7f00528",
   "metadata": {},
   "outputs": [],
   "source": [
    "tds_potential = Potential(frozen_phonons, \n",
    "                      sampling=.05,\n",
    "                      projection='infinite', \n",
    "                      slice_thickness=1, \n",
    "                      parametrization='kirkland').build()\n",
    "\n",
    "print(tds_potential.gpts, tds_potential.extent, tds_potential.sampling)\n",
    "\n",
    "tfig, ax1 = plt.subplots(1, 1, figsize=(5, 5))\n",
    "tds_potential.project().show(ax=ax1, cmap=\"inferno\")\n",
    "plt.show()"
   ]
  },
  {
   "cell_type": "markdown",
   "id": "9a025b35-b22f-4552-88cd-548847046755",
   "metadata": {},
   "source": [
    "# Probe generation\n",
    "![alt text](image/STEM_probe.jpg \"practice\")\n",
    "![alt text](image/STEM_probe_2.jpg \"practice\")"
   ]
  },
  {
   "cell_type": "code",
   "execution_count": null,
   "id": "0552ff91-b3fb-4a36-bf2e-da16e553bd69",
   "metadata": {},
   "outputs": [],
   "source": [
    "energy = 80E3\n",
    "C3 = 1E6 # 1E6 angstrom = 0.1 mm\n",
    "aperture_semiangle = 30 # mrad\n",
    "sch_defocus = scherzer_defocus(C3, energy)\n",
    "print(sch_defocus)"
   ]
  },
  {
   "cell_type": "code",
   "execution_count": null,
   "id": "39dd4d5e-74e0-43a1-bef8-3d961aae1adb",
   "metadata": {},
   "outputs": [],
   "source": [
    "#ctf   = CTF(parameters={'C10': sch_defocus*0.9, 'C30':C3}, semiangle_cutoff=aperture_semiangle)\n",
    "#probe = Probe(semiangle_cutoff=aperture_semiangle, energy=energy, ctf=ctf)\n",
    "\n",
    "probe = Probe(semiangle_cutoff=aperture_semiangle, energy=energy, Cs=C3, defocus=sch_defocus*1.1)\n",
    "probe.grid.match(tds_potential)\n",
    "\n",
    "print(tds_potential.gpts, tds_potential.extent, tds_potential.sampling)\n",
    "print(probe.gpts, probe.extent, probe.sampling)\n",
    "\n",
    "print(\"wavelength\", probe.wavelength)\n",
    "print(\"Nyquist sampling\", probe.ctf.nyquist_sampling)\n",
    "\n",
    "fig, axes = plt.subplots(1, 2, figsize=(10, 5))\n",
    "probe.show(ax=axes[0])\n",
    "probe.show(ax=axes[1], power=0.5)\n",
    "plt.show()"
   ]
  },
  {
   "cell_type": "markdown",
   "id": "979a80a4-d31e-46fd-a133-e2fb107b2d39",
   "metadata": {},
   "source": [
    "![alt text](image/Nyquist_Shanon_sampling_theorem.gif \"practice\")"
   ]
  },
  {
   "cell_type": "code",
   "execution_count": null,
   "id": "fd3aa91e-c3f1-4d7c-b0d2-6bf14b4c82d8",
   "metadata": {},
   "outputs": [],
   "source": [
    "gridscan = GridScan((0,0), np.array(tds_potential.extent), sampling=0.5)\n",
    "print(gridscan.gpts)"
   ]
  },
  {
   "cell_type": "markdown",
   "id": "34cdcf67-c819-4e4e-8737-bc4919eafa21",
   "metadata": {},
   "source": [
    "# 4D-STEM simulation\n",
    "![alt text](image/exit_wave.jpg \"practice\")"
   ]
  },
  {
   "cell_type": "code",
   "execution_count": null,
   "id": "d9160b48-2c51-4257-a24e-d2113bb28713",
   "metadata": {},
   "outputs": [],
   "source": [
    "detector = PixelatedDetector(max_angle = aperture_semiangle*3.0, resample=(2.0, 2.0))\n",
    "measurement = probe.scan(gridscan, [detector], tds_potential)\n",
    "\n",
    "print(measurement.shape)\n",
    "for i in range(measurement.dimensions):\n",
    "    print(measurement.calibrations[i].name, measurement.calibrations[i].units, measurement.calibrations[i].sampling)"
   ]
  },
  {
   "cell_type": "code",
   "execution_count": null,
   "id": "05836fbb-3eea-4e81-af49-9283e5a64151",
   "metadata": {},
   "outputs": [],
   "source": [
    "bright_detector = AnnularDetector(inner=10, outer=30)\n",
    "bright_measurement = bright_detector.integrate(measurement)\n",
    "\n",
    "maadf_detector = AnnularDetector(inner=50, outer=90)\n",
    "maadf_measurement = maadf_detector.integrate(measurement)\n",
    "\n",
    "pacbed = measurement.mean(axis=(0, 1))\n",
    "\n",
    "fig, axes = plt.subplots(1, 4, figsize=(20, 5))\n",
    "measurement.show(ax=axes[0], cmap=\"inferno\", power=0.5)\n",
    "pacbed.show(ax=axes[1], cmap=\"inferno\", power=0.1)\n",
    "bright_measurement.show(ax=axes[2])\n",
    "maadf_measurement.show(ax=axes[3])\n",
    "fig.tight_layout()\n",
    "plt.show()"
   ]
  },
  {
   "cell_type": "markdown",
   "id": "8107bc3e-3e91-4403-86f2-301bb6f109cd",
   "metadata": {},
   "source": [
    "# Differential phase contrast imaging\n",
    "![alt text](image/DPC.jpg \"practice\")"
   ]
  },
  {
   "cell_type": "code",
   "execution_count": null,
   "id": "54bcba3b-1cfc-4652-b422-f35bba8b67bd",
   "metadata": {},
   "outputs": [],
   "source": [
    "com_x, com_y = center_of_mass(measurement)\n",
    "\n",
    "fig, (ax1, ax2) = plt.subplots(1, 2, figsize=(10, 5))\n",
    "\n",
    "com_x.interpolate(.1).show(ax=ax1)\n",
    "com_y.interpolate(.1).show(ax=ax2)\n",
    "fig.tight_layout()\n",
    "plt.show()"
   ]
  },
  {
   "cell_type": "code",
   "execution_count": null,
   "id": "ec7202b2-6550-44d2-a48a-4943cb53dc5b",
   "metadata": {},
   "outputs": [],
   "source": [
    "icom = center_of_mass(measurement, return_icom=True)\n",
    "\n",
    "icom.show()\n",
    "plt.show()"
   ]
  },
  {
   "cell_type": "markdown",
   "id": "10317aab-1279-46f5-95d1-087d1905d053",
   "metadata": {},
   "source": [
    "# (regularized) Ptychographical iterative engine (PIE)\n",
    "![alt text](image/rpie.jpg \"practice\")"
   ]
  },
  {
   "cell_type": "markdown",
   "id": "12c95c39-0d1a-4dd0-aa87-f8d262e46781",
   "metadata": {},
   "source": [
    "## Bright-field (BF) only"
   ]
  },
  {
   "cell_type": "code",
   "execution_count": null,
   "id": "b16097e9-d42d-49cf-afe9-d43a3a23f0fe",
   "metadata": {},
   "outputs": [],
   "source": [
    "bf_measurement = bandlimit(measurement, aperture_semiangle)\n",
    "bf_measurement.show(cmap=\"inferno\", power=0.5)\n",
    "plt.show()"
   ]
  },
  {
   "cell_type": "code",
   "execution_count": null,
   "id": "7411a036-66dd-4a0f-903f-af8bfd1c6fbf",
   "metadata": {},
   "outputs": [],
   "source": [
    "n_iter = 10\n",
    "experimental_ptycho_operator = RegularizedPtychographicOperator(bf_measurement,\n",
    "                                                               semiangle_cutoff=aperture_semiangle,\n",
    "                                                               energy=energy,\n",
    "                                                               parameters={'object_px_padding':(16, 16)}).preprocess()\n",
    "\n",
    "exp_objects, exp_probes, exp_positions, exp_sse  = experimental_ptycho_operator.reconstruct(\n",
    "    max_iterations = n_iter,\n",
    "    random_seed=1,\n",
    "    return_iterations=True,\n",
    "    parameters={'alpha':1.0,\n",
    "                'beta':1.0})"
   ]
  },
  {
   "cell_type": "code",
   "execution_count": null,
   "id": "02caa732-57d9-44a9-96b9-2289c0ba9aed",
   "metadata": {},
   "outputs": [],
   "source": [
    "print(exp_objects[-1].shape)\n",
    "for i in range(exp_objects[-1].dimensions):\n",
    "    print(exp_objects[-1].calibrations[i].name, exp_objects[-1].calibrations[i].units,\n",
    "          exp_objects[-1].calibrations[i].sampling)"
   ]
  },
  {
   "cell_type": "code",
   "execution_count": null,
   "id": "03260e46-30ca-4a82-9cdb-b33bf26df54b",
   "metadata": {},
   "outputs": [],
   "source": [
    "plot_every = int(n_iter/5)\n",
    "\n",
    "fig, axes = plt.subplots(2, int(np.ceil(len(exp_objects) / plot_every))+1, figsize=(20, 8))\n",
    "\n",
    "for i, j in enumerate(range(0,len(exp_objects), plot_every)):\n",
    "    axes[0,i].imshow(np.angle(exp_objects[j].array).T, origin='lower', cmap='gray')\n",
    "    axes[0,i].set_title('iteration: %d, SSE: %.2e'%(j+1, exp_sse[j]))\n",
    "    axes[1,i].imshow(np.abs(exp_probes[j].array).T, origin='lower', cmap='gray')\n",
    "    axes[0,i].axis(\"off\")\n",
    "    axes[1,i].axis(\"off\")\n",
    "\n",
    "axes[0,-1].imshow(np.angle(exp_objects[-1].array).T, origin='lower', cmap='gray')\n",
    "axes[0,-1].set_title('iteration: %d, SSE: %.2e'%(n_iter, exp_sse[-1]))\n",
    "axes[1,-1].imshow(np.abs(exp_probes[-1].array).T, origin='lower', cmap='gray')\n",
    "axes[0,-1].axis(\"off\")\n",
    "axes[1,-1].axis(\"off\")\n",
    "\n",
    "fig.tight_layout()\n",
    "plt.show()"
   ]
  },
  {
   "cell_type": "code",
   "execution_count": null,
   "id": "b1427b80-22bf-48ff-8f75-278524cdd6b9",
   "metadata": {},
   "outputs": [],
   "source": [
    "fig, axd = plt.subplots(1, 2, figsize=(20, 10))\n",
    "exp_objects[-1].angle().show(ax=axd[0], title=f\"SSE = {float(exp_sse[-1]):.3e}\", cmap='inferno')\n",
    "exp_probes[-1].intensity().show(ax=axd[1], cmap=\"gray\", power=0.3)\n",
    "fig.tight_layout()\n",
    "plt.show()"
   ]
  },
  {
   "cell_type": "markdown",
   "id": "418d5ec4-3b70-4a7c-9880-88a3abea1b78",
   "metadata": {},
   "source": [
    "![alt text](image/pie_condition.jpg \"practice\")"
   ]
  },
  {
   "cell_type": "markdown",
   "id": "676ad218-d98c-44ff-9fde-5cbdac6daff8",
   "metadata": {},
   "source": [
    "## BF + dark-field scattering"
   ]
  },
  {
   "cell_type": "code",
   "execution_count": null,
   "id": "e24859f6-2fc5-4817-9bd0-599b04868dcb",
   "metadata": {},
   "outputs": [],
   "source": [
    "band_limited_measurment = bandlimit(measurement, aperture_semiangle*2.0)\n",
    "band_limited_measurment.show(cmap=\"inferno\", power=0.5)\n",
    "plt.show()"
   ]
  },
  {
   "cell_type": "code",
   "execution_count": null,
   "id": "e1a41daa-3bd0-4310-ae37-6caa18070911",
   "metadata": {},
   "outputs": [],
   "source": [
    "tifffile.imwrite(\"4DSTEM_measurement.tif\", band_limited_measurement.array)"
   ]
  },
  {
   "cell_type": "code",
   "execution_count": null,
   "id": "f731324f-608f-4d41-b345-574bd3a78bd0",
   "metadata": {},
   "outputs": [],
   "source": [
    "n_iter = 10\n",
    "experimental_ptycho_operator = RegularizedPtychographicOperator(band_limited_measurment,\n",
    "                                                               semiangle_cutoff=aperture_semiangle,\n",
    "                                                               energy=energy,\n",
    "                                                               parameters={'object_px_padding':(10, 10)}).preprocess()\n",
    "\n",
    "exp_objects, exp_probes, exp_positions, exp_sse  = experimental_ptycho_operator.reconstruct(\n",
    "    max_iterations = n_iter,\n",
    "    random_seed=1,\n",
    "    return_iterations=True,\n",
    "    parameters={'alpha':1.0,\n",
    "                'beta':1.0})"
   ]
  },
  {
   "cell_type": "code",
   "execution_count": null,
   "id": "8f4d5c9c-ea1e-4671-94d2-21a64861b7d5",
   "metadata": {},
   "outputs": [],
   "source": [
    "print(exp_objects[-1].shape)\n",
    "for i in range(exp_objects[-1].dimensions):\n",
    "    print(exp_objects[-1].calibrations[i].name, exp_objects[-1].calibrations[i].units,\n",
    "          exp_objects[-1].calibrations[i].sampling)"
   ]
  },
  {
   "cell_type": "code",
   "execution_count": null,
   "id": "b2688f6b-08a7-4d71-9bb3-ad1133ac4a5e",
   "metadata": {},
   "outputs": [],
   "source": [
    "plot_every = int(n_iter/5)\n",
    "\n",
    "fig, axes = plt.subplots(2, int(np.ceil(len(exp_objects) / plot_every))+1, figsize=(20, 8))\n",
    "\n",
    "for i, j in enumerate(range(0,len(exp_objects), plot_every)):\n",
    "    axes[0,i].imshow(np.angle(exp_objects[j].array).T, origin='lower', cmap='gray')\n",
    "    axes[0,i].set_title('iteration: %d, SSE: %.2e'%(j+1, exp_sse[j]))\n",
    "    axes[1,i].imshow(np.abs(exp_probes[j].array).T, origin='lower', cmap='gray')\n",
    "    axes[0,i].axis(\"off\")\n",
    "    axes[1,i].axis(\"off\")\n",
    "\n",
    "axes[0,-1].imshow(np.angle(exp_objects[-1].array).T, origin='lower', cmap='gray')\n",
    "axes[0,-1].set_title('iteration: %d, SSE: %.2e'%(n_iter, exp_sse[-1]))\n",
    "axes[1,-1].imshow(np.abs(exp_probes[-1].array).T, origin='lower', cmap='gray')\n",
    "axes[0,-1].axis(\"off\")\n",
    "axes[1,-1].axis(\"off\")\n",
    "\n",
    "fig.tight_layout()\n",
    "plt.show()"
   ]
  },
  {
   "cell_type": "code",
   "execution_count": null,
   "id": "6030ccf9-e691-41bc-a5e2-6cd0178b43d6",
   "metadata": {},
   "outputs": [],
   "source": [
    "fig, axd = plt.subplots(1, 2, figsize=(20, 10))\n",
    "exp_objects[-1].angle().show(ax=axd[0], title=f\"SSE = {float(exp_sse[-1]):.3e}\", cmap='inferno')\n",
    "exp_probes[-1].intensity().show(ax=axd[1], cmap=\"gray\", power=0.5)\n",
    "fig.tight_layout()\n",
    "plt.show()"
   ]
  },
  {
   "cell_type": "markdown",
   "id": "9f5cbf4c-ca0a-4875-bd24-41b684a30f48",
   "metadata": {},
   "source": [
    "## Low-dose + noise"
   ]
  },
  {
   "cell_type": "code",
   "execution_count": null,
   "id": "36385a4a-9297-4394-a71b-c9bc055e97f1",
   "metadata": {},
   "outputs": [],
   "source": [
    "pn_measurement = poisson_noise(measurement, 1E5) # electrons per A^2\n",
    "pn_bright_measurement = bright_detector.integrate(pn_measurement)\n",
    "pn_maadf_measurement = maadf_detector.integrate(pn_measurement)"
   ]
  },
  {
   "cell_type": "code",
   "execution_count": null,
   "id": "9529040c-7627-4e24-abf1-494fb9b28655",
   "metadata": {},
   "outputs": [],
   "source": [
    "fig, axes = plt.subplots(1, 3, figsize=(30, 10))\n",
    "pn_measurement.show(ax=axes[0], cmap=\"inferno\", power=0.5)\n",
    "pn_bright_measurement.show(ax=axes[1])\n",
    "pn_maadf_measurement.show(ax=axes[2])\n",
    "plt.show()"
   ]
  },
  {
   "cell_type": "code",
   "execution_count": null,
   "id": "128628ab-ecc8-4265-891d-4adfd81865ac",
   "metadata": {},
   "outputs": [],
   "source": [
    "band_limited_measurment = bandlimit(pn_measurement, aperture_semiangle*2.0)\n",
    "band_limited_measurment.show(cmap=\"inferno\", power=0.5)\n",
    "plt.show()"
   ]
  },
  {
   "cell_type": "code",
   "execution_count": null,
   "id": "072d7631-c218-4979-b411-2c0d9a5abc57",
   "metadata": {},
   "outputs": [],
   "source": [
    "n_iter = 10\n",
    "experimental_ptycho_operator = RegularizedPtychographicOperator(band_limited_measurment,\n",
    "                                                               semiangle_cutoff=aperture_semiangle,\n",
    "                                                               energy=energy,\n",
    "                                                               parameters={'object_px_padding':(10, 10)}).preprocess()\n",
    "\n",
    "exp_objects, exp_probes, exp_positions, exp_sse  = experimental_ptycho_operator.reconstruct(\n",
    "    max_iterations = n_iter,\n",
    "    random_seed=1,\n",
    "    return_iterations=True,\n",
    "    parameters={'alpha':1.0,\n",
    "                'beta':1.0})"
   ]
  },
  {
   "cell_type": "code",
   "execution_count": null,
   "id": "dc371435-e935-4d18-977c-9a8e0ad7ab0a",
   "metadata": {},
   "outputs": [],
   "source": [
    "print(exp_objects[-1].shape)\n",
    "for i in range(exp_objects[-1].dimensions):\n",
    "    print(exp_objects[-1].calibrations[i].name, exp_objects[-1].calibrations[i].units,\n",
    "          exp_objects[-1].calibrations[i].sampling)"
   ]
  },
  {
   "cell_type": "code",
   "execution_count": null,
   "id": "d83459e3-83a7-464a-933b-cd4d431231b1",
   "metadata": {},
   "outputs": [],
   "source": [
    "plot_every = int(n_iter/5)\n",
    "\n",
    "fig, axes = plt.subplots(2, int(np.ceil(len(exp_objects) / plot_every))+1, figsize=(20, 8))\n",
    "\n",
    "for i, j in enumerate(range(0,len(exp_objects), plot_every)):\n",
    "    axes[0,i].imshow(np.angle(exp_objects[j].array).T, origin='lower', cmap='gray')\n",
    "    axes[0,i].set_title('iteration: %d, SSE: %.2e'%(j+1, exp_sse[j]))\n",
    "    axes[1,i].imshow(np.abs(exp_probes[j].array).T, origin='lower', cmap='gray')\n",
    "    axes[0,i].axis(\"off\")\n",
    "    axes[1,i].axis(\"off\")\n",
    "\n",
    "axes[0,-1].imshow(np.angle(exp_objects[-1].array).T, origin='lower', cmap='gray')\n",
    "axes[0,-1].set_title('iteration: %d, SSE: %.2e'%(n_iter, exp_sse[-1]))\n",
    "axes[1,-1].imshow(np.abs(exp_probes[-1].array).T, origin='lower', cmap='gray')\n",
    "axes[0,-1].axis(\"off\")\n",
    "axes[1,-1].axis(\"off\")\n",
    "\n",
    "fig.tight_layout()\n",
    "plt.show()"
   ]
  },
  {
   "cell_type": "code",
   "execution_count": null,
   "id": "f0cf5492-d97b-4698-b3fc-b0a858149614",
   "metadata": {},
   "outputs": [],
   "source": [
    "fig, axd = plt.subplots(1, 2, figsize=(20, 10))\n",
    "exp_objects[-1].angle().show(ax=axd[0], title=f\"SSE = {float(exp_sse[-1]):.3e}\", cmap='inferno')\n",
    "exp_probes[-1].intensity().show(ax=axd[1], cmap=\"gray\", power=0.5)\n",
    "fig.tight_layout()\n",
    "plt.show()"
   ]
  }
 ],
 "metadata": {
  "kernelspec": {
   "display_name": "Python 3 (ipykernel)",
   "language": "python",
   "name": "python3"
  },
  "language_info": {
   "codemirror_mode": {
    "name": "ipython",
    "version": 3
   },
   "file_extension": ".py",
   "mimetype": "text/x-python",
   "name": "python",
   "nbconvert_exporter": "python",
   "pygments_lexer": "ipython3",
   "version": "3.9.13"
  }
 },
 "nbformat": 4,
 "nbformat_minor": 5
}
