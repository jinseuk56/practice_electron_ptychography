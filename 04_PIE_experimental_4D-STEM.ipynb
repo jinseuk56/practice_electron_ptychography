{
 "cells": [
  {
   "cell_type": "code",
   "execution_count": null,
   "id": "55461b76-ec17-4cb6-894f-608bebab7949",
   "metadata": {},
   "outputs": [],
   "source": [
    "from abtem import GridScan, PixelatedDetector, Potential, Probe, show_atoms, SMatrix, AnnularDetector\n",
    "from abtem.detect import PixelatedDetector\n",
    "from abtem.reconstruct import MixedStatePtychographicOperator, RegularizedPtychographicOperator\n",
    "from abtem.measure import Measurement, Calibration, bandlimit, center_of_mass\n",
    "from abtem.utils import energy2wavelength\n",
    "from ase.io import read\n",
    "import numpy as np\n",
    "import matplotlib.pyplot as plt\n",
    "from matplotlib.patches import Circle\n",
    "from matplotlib.patches import Rectangle\n",
    "from pylab import cm\n",
    "from matplotlib.widgets import RectangleSelector\n",
    "import matplotlib.patches as pch\n",
    "import tifffile\n",
    "import tkinter.filedialog as tkf"
   ]
  },
  {
   "cell_type": "code",
   "execution_count": null,
   "id": "6dd0cf4b-6c6c-4740-82ab-a3e43e7c7f57",
   "metadata": {},
   "outputs": [],
   "source": [
    "energy                            = 80E3\n",
    "semiangle                         = 19.85182\n",
    "step_size_real_space              = (0.40022, 0.40022)\n",
    "reciprocal_space_sampling_mrad    = (1.640532, 1.640532)\n",
    "center_x = 63.47938902629002\n",
    "center_y = 62.62253022165034\n",
    "file_adr = \"\""
   ]
  },
  {
   "cell_type": "code",
   "execution_count": null,
   "id": "099753bb-ec52-4739-abb2-4d60d1638b59",
   "metadata": {},
   "outputs": [],
   "source": [
    "raw_data = tifffile.imread(file_adr)\n",
    "print(raw_data.shape)"
   ]
  },
  {
   "cell_type": "code",
   "execution_count": null,
   "id": "dd903ef1-2b45-4ae8-afd3-b76f135b186e",
   "metadata": {},
   "outputs": [],
   "source": [
    "x_cb_object = Calibration(offset=0, sampling=step_size_real_space[0], units=\"Å\", name=\"x\")\n",
    "y_cb_object = Calibration(offset=0, sampling=step_size_real_space[1], units=\"Å\", name=\"y\")\n",
    "dx_cb_object = Calibration(offset=-center_x*reciprocal_space_sampling_mrad[0], \n",
    "                           sampling=reciprocal_space_sampling_mrad[0], units=\"mrad\", name=\"alpha_x\")\n",
    "dy_cb_object = Calibration(offset=-center_y*reciprocal_space_sampling_mrad[1], \n",
    "                           sampling=reciprocal_space_sampling_mrad[1], units=\"mrad\", name=\"alpha_y\")\n",
    "\n",
    "experimental_measurement = Measurement(raw_data, calibrations=[x_cb_object, y_cb_object, dx_cb_object, dy_cb_object])\n",
    "adf                      = AnnularDetector(inner=semiangle,outer=reciprocal_space_sampling_mrad[0]*raw_data.shape[2]/2).integrate(experimental_measurement)\n",
    "print(semiangle, reciprocal_space_sampling_mrad[0]*raw_data.shape[2]/2)\n",
    "pacbed                   = experimental_measurement.mean(axis=(0,1))\n",
    "\n",
    "fig, (ax1,ax2) = plt.subplots(1, 2, figsize=(8,6))\n",
    "\n",
    "adf.show(ax=ax1,title='ADF image')\n",
    "pacbed.show(power=0.5,ax=ax2, cmap='inferno',title='PACBED pattern')\n",
    "\n",
    "fig.tight_layout()\n",
    "plt.show()"
   ]
  },
  {
   "cell_type": "code",
   "execution_count": null,
   "id": "af43c4a8-a805-40e3-a3e2-104e140976ca",
   "metadata": {},
   "outputs": [],
   "source": [
    "print(experimental_measurement.shape)\n",
    "print(*experimental_measurement.calibration_limits, sep=\"\\n\")\n",
    "for i in range(experimental_measurement.dimensions):\n",
    "    print(experimental_measurement.calibrations[i].name, experimental_measurement.calibrations[i].units, experimental_measurement.calibrations[i].sampling)"
   ]
  },
  {
   "cell_type": "code",
   "execution_count": null,
   "id": "39c2e2c1-2f5a-4b1d-9cac-0b3fca6ef4a4",
   "metadata": {},
   "outputs": [],
   "source": [
    "experimental_measurement_sampling = tuple(energy2wavelength(energy)*1000/(cal.sampling * pixels) \n",
    "                                                      for cal,pixels \n",
    "                                                      in zip(experimental_measurement.calibrations[-2:], \n",
    "                                                             experimental_measurement.shape[-2:]))\n",
    "\n",
    "print(f'pixelated_measurement sampling: {experimental_measurement_sampling}')"
   ]
  },
  {
   "cell_type": "code",
   "execution_count": null,
   "id": "df139bfb-cc0f-419d-9fca-13772cc01daf",
   "metadata": {},
   "outputs": [],
   "source": [
    "experimental_measurement_extent = tuple(sampling*pixels for sampling,pixels \n",
    "                                      in zip(experimental_measurement_sampling, experimental_measurement.shape[-2:]))\n",
    "\n",
    "print(f'pixelated_measurement extent: {experimental_measurement_extent}')"
   ]
  },
  {
   "cell_type": "code",
   "execution_count": null,
   "id": "1df9fd04-37d1-4bce-8150-582c42c7f60f",
   "metadata": {},
   "outputs": [],
   "source": [
    "probe_roi_limited    = Probe(semiangle_cutoff=semiangle, energy=energy,\n",
    "                             sampling = experimental_measurement_sampling,\n",
    "                             gpts     = experimental_measurement.shape[-2:])\n",
    "\n",
    "fig, (ax1, ax2) = plt.subplots(1, 2, figsize=(10,5))\n",
    "experimental_measurement.mean(axis=(0, 1)).show(power=0.5,cmap='inferno',ax=ax1);\n",
    "probe_roi_limited.show(ax=ax2, power=0.5)\n",
    "fig.tight_layout()\n",
    "plt.show()"
   ]
  },
  {
   "cell_type": "code",
   "execution_count": null,
   "id": "91a50eff-4685-46b3-a648-779f2348a8c5",
   "metadata": {},
   "outputs": [],
   "source": [
    "bf_measurement = bandlimit(experimental_measurement, semiangle)\n",
    "bf_measurement.show(cmap=\"inferno\", power=0.5)\n",
    "plt.show()"
   ]
  },
  {
   "cell_type": "code",
   "execution_count": null,
   "id": "2f5fd186-8a97-49c4-9a21-105799d053bd",
   "metadata": {},
   "outputs": [],
   "source": [
    "com_x, com_y = center_of_mass(bf_measurement)\n",
    "\n",
    "fig, (ax1, ax2) = plt.subplots(1, 2, figsize=(10, 5))\n",
    "\n",
    "com_x.show(ax=ax1)\n",
    "com_y.show(ax=ax2)\n",
    "fig.tight_layout()\n",
    "plt.show()"
   ]
  },
  {
   "cell_type": "code",
   "execution_count": null,
   "id": "dfc16ea0-b36a-47bc-b45d-eb77a774f4b2",
   "metadata": {},
   "outputs": [],
   "source": [
    "icom = center_of_mass(bf_measurement, return_icom=True)\n",
    "\n",
    "icom.show()\n",
    "plt.show()"
   ]
  },
  {
   "cell_type": "code",
   "execution_count": null,
   "id": "4a8a0397-101b-435b-87ea-42d3f6cedfab",
   "metadata": {},
   "outputs": [],
   "source": [
    "n_iter = 10\n",
    "experimental_ptycho_operator = RegularizedPtychographicOperator(experimental_measurement,\n",
    "                                                               semiangle_cutoff=semiangle,\n",
    "                                                               energy=energy,\n",
    "                                                               parameters={'object_px_padding':(16, 16)}).preprocess()\n",
    "\n",
    "exp_objects, exp_probes, exp_positions, exp_sse  = experimental_ptycho_operator.reconstruct(\n",
    "    max_iterations = n_iter,\n",
    "    random_seed=1,\n",
    "    return_iterations=True,\n",
    "    parameters={'alpha':1.0,\n",
    "                'beta':1.0})\n",
    "\n",
    "print(exp_objects[-1].shape)\n",
    "for i in range(exp_objects[-1].dimensions):\n",
    "    print(exp_objects[-1].calibrations[i].name, exp_objects[-1].calibrations[i].units,\n",
    "          exp_objects[-1].calibrations[i].sampling)"
   ]
  },
  {
   "cell_type": "code",
   "execution_count": null,
   "id": "9054a878-8dbd-464d-912e-5669400e8979",
   "metadata": {},
   "outputs": [],
   "source": [
    "plot_every = int(n_iter/5)\n",
    "\n",
    "fig, axes = plt.subplots(2, int(np.ceil(len(exp_objects) / plot_every))+1, figsize=(20, 8))\n",
    "\n",
    "for i, j in enumerate(range(0,len(exp_objects), plot_every)):\n",
    "    axes[0,i].imshow(np.angle(exp_objects[j].array).T, origin='lower', cmap='gray')\n",
    "    axes[0,i].set_title('iteration: %d, SSE: %.2e'%(j+1, exp_sse[j]))\n",
    "    axes[1,i].imshow(np.abs(exp_probes[j].array).T, origin='lower', cmap='gray')\n",
    "    axes[0,i].axis(\"off\")\n",
    "    axes[1,i].axis(\"off\")\n",
    "\n",
    "axes[0,-1].imshow(np.angle(exp_objects[-1].array).T, origin='lower', cmap='gray')\n",
    "axes[0,-1].set_title('iteration: %d, SSE: %.2e'%(n_iter, exp_sse[-1]))\n",
    "axes[1,-1].imshow(np.abs(exp_probes[-1].array).T, origin='lower', cmap='gray')\n",
    "axes[0,-1].axis(\"off\")\n",
    "axes[1,-1].axis(\"off\")\n",
    "\n",
    "fig.tight_layout()\n",
    "plt.show()"
   ]
  },
  {
   "cell_type": "code",
   "execution_count": null,
   "id": "de27c8da-af9e-41f8-b1f8-db55936bdcf2",
   "metadata": {},
   "outputs": [],
   "source": [
    "fig, axd = plt.subplots(1, 2, figsize=(20, 10))\n",
    "exp_objects[-1].angle().show(ax=axd[0], title=f\"SSE = {float(exp_sse[-1]):.3e}\", cmap='inferno')\n",
    "exp_probes[-1].intensity().show(ax=axd[1], cmap=\"gray\", power=0.5)\n",
    "fig.tight_layout()\n",
    "plt.show()"
   ]
  }
 ],
 "metadata": {
  "kernelspec": {
   "display_name": "Python 3 (ipykernel)",
   "language": "python",
   "name": "python3"
  },
  "language_info": {
   "codemirror_mode": {
    "name": "ipython",
    "version": 3
   },
   "file_extension": ".py",
   "mimetype": "text/x-python",
   "name": "python",
   "nbconvert_exporter": "python",
   "pygments_lexer": "ipython3",
   "version": "3.9.13"
  }
 },
 "nbformat": 4,
 "nbformat_minor": 5
}
